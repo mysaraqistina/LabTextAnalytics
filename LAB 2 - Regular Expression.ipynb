{
 "cells": [
  {
   "cell_type": "code",
   "execution_count": 1,
   "id": "830c01d5-ba6e-4a96-bdca-9b943128db7c",
   "metadata": {},
   "outputs": [],
   "source": [
    "import re"
   ]
  },
  {
   "cell_type": "markdown",
   "id": "bd30465e-0c56-4ffd-bd26-2310f7ee6751",
   "metadata": {},
   "source": [
    "### 1. Write a Python program that extracts all digits from the following text"
   ]
  },
  {
   "cell_type": "code",
   "execution_count": 9,
   "id": "d369bd66-36e8-4ebf-9c76-b1b979b23deb",
   "metadata": {},
   "outputs": [
    {
     "name": "stdout",
     "output_type": "stream",
     "text": [
      "Digits found: ['2', '4', '5', '6', '7', '8', '9', '3', '4', '1', '2', '3', '0']\n"
     ]
    }
   ],
   "source": [
    "text = \"Order number: 24567, Tracking ID: 8934A12, Quantity: 30\"\n",
    "#Write your regular expression here\n",
    "pattern = r\"\\d\"\n",
    "matches = re.findall(pattern, text)\n",
    "print(\"Digits found:\", matches)"
   ]
  },
  {
   "cell_type": "markdown",
   "id": "e2be8ef6-ce9f-443c-87e1-5bc7d1b38224",
   "metadata": {},
   "source": [
    "### 2. Extract all non-alphanumeric characters (spaces, punctuation, etc.) from the text."
   ]
  },
  {
   "cell_type": "markdown",
   "id": "8900b864-3dca-4519-a8bd-aeae904afc83",
   "metadata": {},
   "source": [
    "text = \"Welcome! How's your day going? Call me @ 3pm.\"\n",
    "pattern = r\"\\W\"\n",
    "matches = re.findall(pattern, text)\n",
    "print(\"Non-alphanumeric characters:\", matches)"
   ]
  },
  {
   "cell_type": "markdown",
   "id": "f1fcb1c7-d8c2-4bdc-a891-17eb005bd41e",
   "metadata": {},
   "source": [
    "### 3. Split the text at commas and periods.\r"
   ]
  },
  {
   "cell_type": "code",
   "execution_count": 18,
   "id": "b632e0b5-006a-4ade-bc1a-4a8d6a6e763c",
   "metadata": {},
   "outputs": [
    {
     "name": "stdout",
     "output_type": "stream",
     "text": [
      "Split text: ['Data Science', ' AI', ' and Machine Learning', ' These fields are growing fast', '']\n"
     ]
    }
   ],
   "source": [
    "text = \"Data Science, AI, and Machine Learning. These fields are growing fast.\"\n",
    "pattern = r\"[,.]\"\n",
    "split_text = re.split(pattern, text)\n",
    "print(\"Split text:\", split_text)"
   ]
  },
  {
   "cell_type": "markdown",
   "id": "d9c09263-0e7b-449c-a9ef-6565beb43005",
   "metadata": {},
   "source": [
    "### 4. Replace email addresses with [HIDDEN].ext)\r"
   ]
  },
  {
   "cell_type": "code",
   "execution_count": 45,
   "id": "481facc6-d505-494c-a4b0-94b7954f0fd5",
   "metadata": {},
   "outputs": [
    {
     "name": "stdout",
     "output_type": "stream",
     "text": [
      "Anonymized text: Contact us at [HIDDEN] or [HIDDEN]\n"
     ]
    }
   ],
   "source": [
    "text = \"Contact us at support@example.com or info@company.org\"\n",
    "pattern = r\"\\S+@\\S+\"\n",
    "new_text = re.sub(pattern, \"[HIDDEN]\", text)\n",
    "print(\"Anonymized text:\", new_text)"
   ]
  },
  {
   "cell_type": "markdown",
   "id": "58f763bc-c51e-4b53-9cb4-68e32995565a",
   "metadata": {},
   "source": [
    "### 5. Extract only the domain types (e.g., com, org, edu) from email addresses."
   ]
  },
  {
   "cell_type": "code",
   "execution_count": 56,
   "id": "523bb32a-6591-4156-8903-3e6d407f3717",
   "metadata": {},
   "outputs": [
    {
     "name": "stdout",
     "output_type": "stream",
     "text": [
      "Domain types: ['com', 'edu', 'org']\n"
     ]
    }
   ],
   "source": [
    "text = \"Emails: user@gmail.com, admin@university.edu, info@company.org\"\n",
    "pattern = r\"@\\w+.(\\w+.\\w+)\"\n",
    "matches = re.findall(pattern, text)\n",
    "print(\"Domain types:\", matches)"
   ]
  },
  {
   "cell_type": "code",
   "execution_count": null,
   "id": "bf44efff-ec7e-4f15-b372-39c72a439d41",
   "metadata": {},
   "outputs": [],
   "source": []
  }
 ],
 "metadata": {
  "kernelspec": {
   "display_name": "Python 3 (ipykernel)",
   "language": "python",
   "name": "python3"
  },
  "language_info": {
   "codemirror_mode": {
    "name": "ipython",
    "version": 3
   },
   "file_extension": ".py",
   "mimetype": "text/x-python",
   "name": "python",
   "nbconvert_exporter": "python",
   "pygments_lexer": "ipython3",
   "version": "3.12.4"
  }
 },
 "nbformat": 4,
 "nbformat_minor": 5
}
