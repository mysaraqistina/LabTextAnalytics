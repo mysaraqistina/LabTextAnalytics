{
 "cells": [
  {
   "cell_type": "markdown",
   "id": "fb8b6c4b-686f-4406-9117-cdd4d89872e9",
   "metadata": {},
   "source": [
    "###### 1. Import necessary library"
   ]
  },
  {
   "cell_type": "code",
   "execution_count": 2,
   "id": "3efda1f2-d279-4ff8-b612-a3e7b84c3398",
   "metadata": {},
   "outputs": [],
   "source": [
    "from collections import Counter #count word occurrences\n",
    "import pandas as pd"
   ]
  },
  {
   "cell_type": "markdown",
   "id": "df83217b-22f2-4876-b0ee-ebfa118c02ba",
   "metadata": {},
   "source": [
    "###### 2. Load pre-processed file"
   ]
  },
  {
   "cell_type": "code",
   "execution_count": 7,
   "id": "e2bab2fd-f54e-4695-bd28-b3632d86f73f",
   "metadata": {},
   "outputs": [],
   "source": [
    "file_path = \"Processed_Reviews.csv\"\n",
    "df = pd.read_csv(file_path)"
   ]
  },
  {
   "cell_type": "markdown",
   "id": "7381a562-4cff-45c5-bfd7-760c97dce18f",
   "metadata": {},
   "source": [
    "###### 3. Extract the tokenized text data"
   ]
  },
  {
   "cell_type": "code",
   "execution_count": 10,
   "id": "58257e22-133c-4723-bfe2-db21dce0f679",
   "metadata": {},
   "outputs": [],
   "source": [
    "tokenized_reviews = df['tokenized'].dropna().apply(eval)"
   ]
  },
  {
   "cell_type": "markdown",
   "id": "411b817d-10a5-48ed-a0d2-7a8911ec5cc7",
   "metadata": {},
   "source": [
    "###### 4. List all unique words"
   ]
  },
  {
   "cell_type": "code",
   "execution_count": 15,
   "id": "75da978a-af5e-4e58-8c0d-fafe0a591287",
   "metadata": {},
   "outputs": [],
   "source": [
    "all_words = [word for review in tokenized_reviews for word in review]\n",
    "unique_words = list(set(all_words))"
   ]
  },
  {
   "cell_type": "markdown",
   "id": "64bcc604-d3e8-4e73-9011-a3fb65468ee5",
   "metadata": {},
   "source": [
    "###### 5. Create word frequency table"
   ]
  },
  {
   "cell_type": "code",
   "execution_count": 18,
   "id": "b56ed666-5c74-471a-b61a-23eda173fa59",
   "metadata": {},
   "outputs": [],
   "source": [
    "word_freq = Counter(all_words)\n",
    "sorted_word_freq = dict(sorted(word_freq.items(), key=lambda item: item [1], reverse = True))"
   ]
  },
  {
   "cell_type": "markdown",
   "id": "70cc0c4e-dd50-442d-93f0-291c85189906",
   "metadata": {},
   "source": [
    "###### 6. Create document vectors"
   ]
  },
  {
   "cell_type": "code",
   "execution_count": 21,
   "id": "62873365-4691-44e2-9d8b-38a9b65362ac",
   "metadata": {},
   "outputs": [],
   "source": [
    "document_vectors = []\n",
    "for review in tokenized_reviews:\n",
    "    document_vector = [1 if word in review else 0 for word in sorted_word_freq.keys()]\n",
    "    document_vectors.append(document_vector)"
   ]
  },
  {
   "cell_type": "markdown",
   "id": "1ae324dd-8994-461e-8dae-1b0a59b1ef82",
   "metadata": {},
   "source": [
    "###### 7. Convert document vectors to DataFrame"
   ]
  },
  {
   "cell_type": "code",
   "execution_count": 26,
   "id": "2d82b595-6f3c-4a7e-ab41-fb29f6e6c071",
   "metadata": {},
   "outputs": [],
   "source": [
    "doc_vectors_df = pd.DataFrame(document_vectors, columns = sorted_word_freq.keys())"
   ]
  },
  {
   "cell_type": "markdown",
   "id": "fb9c994a-6fda-4ecb-ad89-bfc1dc859bf8",
   "metadata": {},
   "source": [
    "###### 8. Save document vectors to CSV file"
   ]
  },
  {
   "cell_type": "code",
   "execution_count": 29,
   "id": "e811c071-ca4c-409c-a989-73d6ce6e7343",
   "metadata": {},
   "outputs": [],
   "source": [
    "doc_vectors_df.to_csv(\"document_vectors.csv\", index = False)"
   ]
  },
  {
   "cell_type": "markdown",
   "id": "3e7694c1-725b-4b3f-af79-18067148e8fe",
   "metadata": {},
   "source": [
    "###### 9. Display word frequency table"
   ]
  },
  {
   "cell_type": "code",
   "execution_count": null,
   "id": "248835dd-03b8-401a-b70b-63ce0e25af71",
   "metadata": {},
   "outputs": [],
   "source": [
    "word_freq_df = pd.DataFrame(list(sorted_word_freq.items()), columns=[\"Word\", \"Frequency\"])\n",
    "print(\"Word Frequency Table:\")\n",
    "print(word_freq_df)"
   ]
  }
 ],
 "metadata": {
  "kernelspec": {
   "display_name": "Python 3 (ipykernel)",
   "language": "python",
   "name": "python3"
  },
  "language_info": {
   "codemirror_mode": {
    "name": "ipython",
    "version": 3
   },
   "file_extension": ".py",
   "mimetype": "text/x-python",
   "name": "python",
   "nbconvert_exporter": "python",
   "pygments_lexer": "ipython3",
   "version": "3.12.4"
  }
 },
 "nbformat": 4,
 "nbformat_minor": 5
}
