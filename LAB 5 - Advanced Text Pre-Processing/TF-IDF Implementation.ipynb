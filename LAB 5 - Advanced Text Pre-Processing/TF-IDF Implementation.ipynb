{
 "cells": [
  {
   "cell_type": "markdown",
   "id": "25668a20-0b13-45e9-990e-f6b463ac2f5a",
   "metadata": {},
   "source": [
    "###### 1. Import necessary libraries"
   ]
  },
  {
   "cell_type": "code",
   "execution_count": 2,
   "id": "6e62a8ef-5d3b-43c7-9aad-c899aa3d3e8e",
   "metadata": {},
   "outputs": [],
   "source": [
    "import pandas as pd\n",
    "import math # use for log function\n",
    "from collections import Counter"
   ]
  },
  {
   "cell_type": "markdown",
   "id": "2b6f5c4c-f870-4a00-8226-10b3b110882a",
   "metadata": {},
   "source": [
    "###### 2. Load pre-processed file"
   ]
  },
  {
   "cell_type": "code",
   "execution_count": 5,
   "id": "d2bcc5eb-69d2-4d08-9de9-3174355e045d",
   "metadata": {},
   "outputs": [],
   "source": [
    "file_path = \"Processed_Reviews.csv\"\n",
    "df = pd.read_csv(file_path)"
   ]
  },
  {
   "cell_type": "markdown",
   "id": "5f46f214-15a5-4dbc-821b-6bddc23557e8",
   "metadata": {},
   "source": [
    "###### 3. Extract the tokenized text data"
   ]
  },
  {
   "cell_type": "code",
   "execution_count": 8,
   "id": "455aab94-65ab-4241-850d-428f17ca9058",
   "metadata": {},
   "outputs": [],
   "source": [
    "tokenized_reviews = df['tokenized'].dropna().apply(eval)"
   ]
  },
  {
   "cell_type": "markdown",
   "id": "ceb74211-f15d-48cf-802b-e52648dd6cc2",
   "metadata": {},
   "source": [
    "###### 4. Function to compute Team Frequency (TF)"
   ]
  },
  {
   "cell_type": "code",
   "execution_count": 11,
   "id": "3066060b-c694-43e8-8d26-653f0df6c3eb",
   "metadata": {},
   "outputs": [],
   "source": [
    "def compute_tf(document):\n",
    "    word_count = Counter(document)\n",
    "    tf = {word: count / len(document) for word, count in word_count.items()}\n",
    "    return tf"
   ]
  },
  {
   "cell_type": "markdown",
   "id": "8e3c05fa-cae3-4d7d-937a-460b304ed02e",
   "metadata": {},
   "source": [
    "###### 5. Function to compute Inverse Document Frequency (IDF)"
   ]
  },
  {
   "cell_type": "code",
   "execution_count": 16,
   "id": "f6b5de15-1e75-44da-8870-50b121a474ed",
   "metadata": {},
   "outputs": [],
   "source": [
    "def compute_idf(documents):\n",
    "    N = len(documents) # Total number of documents\n",
    "    idf = {}\n",
    "    all_words = set(word for doc in documents for word in doc) # Unique words\n",
    "    for word in all_words:\n",
    "        count = sum(1 for doc in documents if word in doc)\n",
    "        idf[word] = math.log(N / count)\n",
    "    return idf"
   ]
  },
  {
   "cell_type": "markdown",
   "id": "480cb7f4-0f92-4d0b-ae20-1f1d5acfca75",
   "metadata": {},
   "source": [
    "###### 6. Function to compute TF-IDF"
   ]
  },
  {
   "cell_type": "code",
   "execution_count": 19,
   "id": "8d8728f0-76d0-4d4d-9626-a715117314e6",
   "metadata": {},
   "outputs": [],
   "source": [
    "def compute_tfidf(document, idf):\n",
    "    tfidf = {}\n",
    "    tf = compute_tf(document) # Get TF values for the document\n",
    "    for word, tf_value in tf.items():\n",
    "        tfidf[word] = tf_value * idf[word] # Multiply TF and IDF\n",
    "    return tfidf"
   ]
  },
  {
   "cell_type": "markdown",
   "id": "8f639d3a-5f9f-4aa9-a423-8ccb3417dbe4",
   "metadata": {},
   "source": [
    "###### 7. Convert tokenized reviews into a list"
   ]
  },
  {
   "cell_type": "code",
   "execution_count": 22,
   "id": "3ec23f65-701f-4041-8db0-ec0054a18b85",
   "metadata": {},
   "outputs": [],
   "source": [
    "documents = tokenized_reviews.tolist()"
   ]
  },
  {
   "cell_type": "markdown",
   "id": "e12c40c7-5e29-4a85-8dbd-c7b5e65f671a",
   "metadata": {},
   "source": [
    "###### 8. Compute TF scores, convert to DataFrame and save to a CSV file"
   ]
  },
  {
   "cell_type": "code",
   "execution_count": 25,
   "id": "21bbfd53-baad-423b-82ae-565dd7a2e6d9",
   "metadata": {},
   "outputs": [],
   "source": [
    "tf_data = [compute_tf(doc) for doc in documents]\n",
    "tf_df = pd.DataFrame(tf_data).fillna(0)\n",
    "tf_df.to_csv(\"tf_scores.csv\", index=False)"
   ]
  },
  {
   "cell_type": "markdown",
   "id": "eecda2d9-809b-4208-85c5-dc17ade7b73e",
   "metadata": {},
   "source": [
    "###### 9. Compute IDF scores, convert to DataFrame and save to a CSV file"
   ]
  },
  {
   "cell_type": "code",
   "execution_count": 28,
   "id": "b020a13c-3eb5-41d7-b330-a85764414435",
   "metadata": {},
   "outputs": [],
   "source": [
    "idf = compute_idf(documents)\n",
    "idf_df = pd.DataFrame([idf]).fillna(0)\n",
    "idf_df.to_csv(\"idf_scores.csv\", index=False)"
   ]
  },
  {
   "cell_type": "markdown",
   "id": "8802edaa-8213-4770-9c65-1106e7cc766f",
   "metadata": {},
   "source": [
    "###### 10. Compute TF-IDF scores, convert to DataFrame and save to a CSV file"
   ]
  },
  {
   "cell_type": "code",
   "execution_count": 31,
   "id": "4baf4143-18f1-4d1f-8a9a-bf07f1e93f98",
   "metadata": {},
   "outputs": [],
   "source": [
    "tfidf_data = [compute_tfidf(doc, idf) for doc in documents]\n",
    "tfidf_df = pd.DataFrame(tfidf_data).fillna(0)\n",
    "tfidf_df.to_csv(\"tfidf_scores.csv\", index=False)"
   ]
  },
  {
   "cell_type": "code",
   "execution_count": null,
   "id": "186e2fd4-46e7-4e8c-be04-20b5c5d92e6b",
   "metadata": {},
   "outputs": [],
   "source": []
  }
 ],
 "metadata": {
  "kernelspec": {
   "display_name": "Python 3 (ipykernel)",
   "language": "python",
   "name": "python3"
  },
  "language_info": {
   "codemirror_mode": {
    "name": "ipython",
    "version": 3
   },
   "file_extension": ".py",
   "mimetype": "text/x-python",
   "name": "python",
   "nbconvert_exporter": "python",
   "pygments_lexer": "ipython3",
   "version": "3.12.4"
  }
 },
 "nbformat": 4,
 "nbformat_minor": 5
}
