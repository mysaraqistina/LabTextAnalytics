{
 "cells": [
  {
   "cell_type": "markdown",
   "id": "a3bdc0e3-5723-49aa-a40b-27fd1116e0aa",
   "metadata": {},
   "source": [
    "##### Manually Label the Data"
   ]
  },
  {
   "cell_type": "code",
   "execution_count": 106,
   "id": "25ec1461-3385-408a-babc-737e8f95fdf1",
   "metadata": {},
   "outputs": [],
   "source": [
    "import pandas as pd"
   ]
  },
  {
   "cell_type": "code",
   "execution_count": 108,
   "id": "523bb5bb-83c8-4ba5-acd8-75d967b1ace4",
   "metadata": {},
   "outputs": [
    {
     "data": {
      "text/plain": [
       "(13, 15)"
      ]
     },
     "execution_count": 108,
     "metadata": {},
     "output_type": "execute_result"
    }
   ],
   "source": [
    "df = pd.read_csv(\"Processed_Reviews.csv\",encoding=\"ISO-8859-1\")\n",
    "df.shape"
   ]
  },
  {
   "cell_type": "code",
   "execution_count": 110,
   "id": "e9bd0e16-0e9c-4d4b-9e20-13a53470cd56",
   "metadata": {},
   "outputs": [
    {
     "data": {
      "text/html": [
       "<div>\n",
       "<style scoped>\n",
       "    .dataframe tbody tr th:only-of-type {\n",
       "        vertical-align: middle;\n",
       "    }\n",
       "\n",
       "    .dataframe tbody tr th {\n",
       "        vertical-align: top;\n",
       "    }\n",
       "\n",
       "    .dataframe thead th {\n",
       "        text-align: right;\n",
       "    }\n",
       "</style>\n",
       "<table border=\"1\" class=\"dataframe\">\n",
       "  <thead>\n",
       "    <tr style=\"text-align: right;\">\n",
       "      <th></th>\n",
       "      <th>label</th>\n",
       "      <th>review</th>\n",
       "      <th>lowercased</th>\n",
       "      <th>urls_removed</th>\n",
       "      <th>html_removed</th>\n",
       "      <th>emojis_removed</th>\n",
       "      <th>slangs_replaced</th>\n",
       "      <th>contractions_replaced</th>\n",
       "      <th>punctuations_removed</th>\n",
       "      <th>numbers_removed</th>\n",
       "      <th>spelling_corrected</th>\n",
       "      <th>stopwords_removed</th>\n",
       "      <th>stemmed_words</th>\n",
       "      <th>lemmatized</th>\n",
       "      <th>tokenized</th>\n",
       "    </tr>\n",
       "  </thead>\n",
       "  <tbody>\n",
       "    <tr>\n",
       "      <th>0</th>\n",
       "      <td>1</td>\n",
       "      <td>The product arrived on time. Packaging was gre...</td>\n",
       "      <td>the product arrived on time. packaging was gre...</td>\n",
       "      <td>the product arrived on time. packaging was gre...</td>\n",
       "      <td>the product arrived on time. packaging was gre...</td>\n",
       "      <td>the product arrived on time. packaging was gre...</td>\n",
       "      <td>the product arrived on time. packaging was gre...</td>\n",
       "      <td>the product arrived on time. packaging was gre...</td>\n",
       "      <td>the product arrived on time packaging was grea...</td>\n",
       "      <td>the product arrived on time packaging was grea...</td>\n",
       "      <td>the product arrived on time packaging was grea...</td>\n",
       "      <td>product arrived time packaging great quality a...</td>\n",
       "      <td>product arriv time packag great qualiti amaz</td>\n",
       "      <td>product arrive time packaging great quality am...</td>\n",
       "      <td>['product', 'arrive', 'time', 'packaging', 'gr...</td>\n",
       "    </tr>\n",
       "    <tr>\n",
       "      <th>1</th>\n",
       "      <td>1</td>\n",
       "      <td>THIS PRODUCT IS JUST AMAZING! I LOVE IT.</td>\n",
       "      <td>this product is just amazing! i love it.</td>\n",
       "      <td>this product is just amazing! i love it.</td>\n",
       "      <td>this product is just amazing! i love it.</td>\n",
       "      <td>this product is just amazing! i love it.</td>\n",
       "      <td>this product is just amazing! i love it.</td>\n",
       "      <td>this product is just amazing! i love it.</td>\n",
       "      <td>this product is just amazing i love it</td>\n",
       "      <td>this product is just amazing i love it</td>\n",
       "      <td>this product is just amazing i love it</td>\n",
       "      <td>product amazing love</td>\n",
       "      <td>product amaz love</td>\n",
       "      <td>product amaze love</td>\n",
       "      <td>['product', 'amaze', 'love']</td>\n",
       "    </tr>\n",
       "    <tr>\n",
       "      <th>2</th>\n",
       "      <td>1</td>\n",
       "      <td>I bought this phone for $799, and it has a 120...</td>\n",
       "      <td>i bought this phone for $799, and it has a 120...</td>\n",
       "      <td>i bought this phone for $799, and it has a 120...</td>\n",
       "      <td>i bought this phone for $799, and it has a 120...</td>\n",
       "      <td>i bought this phone for $799, and it has a 120...</td>\n",
       "      <td>i bought this phone for $799, and it has a 120...</td>\n",
       "      <td>i bought this phone for $799, and it has a 120...</td>\n",
       "      <td>i bought this phone for 799 and it has a 120hz...</td>\n",
       "      <td>i bought this phone for  and it has a hz displ...</td>\n",
       "      <td>i bought this phone for  and it has a hz displ...</td>\n",
       "      <td>bought phone hz display totally worth</td>\n",
       "      <td>bought phone hz display total worth</td>\n",
       "      <td>buy phone hz display totally worth</td>\n",
       "      <td>['buy', 'phone', 'hz', 'display', 'totally', '...</td>\n",
       "    </tr>\n",
       "    <tr>\n",
       "      <th>3</th>\n",
       "      <td>0</td>\n",
       "      <td>Wow!!! This product is awesome... but a bit ex...</td>\n",
       "      <td>wow!!! this product is awesome... but a bit ex...</td>\n",
       "      <td>wow!!! this product is awesome... but a bit ex...</td>\n",
       "      <td>wow!!! this product is awesome... but a bit ex...</td>\n",
       "      <td>wow!!! this product is awesome... but a bit ex...</td>\n",
       "      <td>wow!!! this product is awesome... but a bit ex...</td>\n",
       "      <td>wow!!! this product is awesome... but a bit ex...</td>\n",
       "      <td>wow this product is awesome but a bit expensive</td>\n",
       "      <td>wow this product is awesome but a bit expensive</td>\n",
       "      <td>wow this product is awesome but a bit expensive</td>\n",
       "      <td>wow product awesome bit expensive</td>\n",
       "      <td>wow product awesom bit expens</td>\n",
       "      <td>wow product awesome bit expensive</td>\n",
       "      <td>['wow', 'product', 'awesome', 'bit', 'expensive']</td>\n",
       "    </tr>\n",
       "    <tr>\n",
       "      <th>4</th>\n",
       "      <td>1</td>\n",
       "      <td>The laptop works perfectly fine.</td>\n",
       "      <td>the laptop works perfectly fine.</td>\n",
       "      <td>the laptop works perfectly fine.</td>\n",
       "      <td>the laptop works perfectly fine.</td>\n",
       "      <td>the laptop works perfectly fine.</td>\n",
       "      <td>the laptop works perfectly fine.</td>\n",
       "      <td>the laptop works perfectly fine.</td>\n",
       "      <td>the laptop works perfectly fine</td>\n",
       "      <td>the laptop works perfectly fine</td>\n",
       "      <td>the laptop works perfectly fine</td>\n",
       "      <td>laptop works perfectly fine</td>\n",
       "      <td>laptop work perfectli fine</td>\n",
       "      <td>laptop work perfectly fine</td>\n",
       "      <td>['laptop', 'work', 'perfectly', 'fine']</td>\n",
       "    </tr>\n",
       "  </tbody>\n",
       "</table>\n",
       "</div>"
      ],
      "text/plain": [
       "   label                                             review  \\\n",
       "0      1  The product arrived on time. Packaging was gre...   \n",
       "1      1           THIS PRODUCT IS JUST AMAZING! I LOVE IT.   \n",
       "2      1  I bought this phone for $799, and it has a 120...   \n",
       "3      0  Wow!!! This product is awesome... but a bit ex...   \n",
       "4      1                The laptop works perfectly fine.      \n",
       "\n",
       "                                          lowercased  \\\n",
       "0  the product arrived on time. packaging was gre...   \n",
       "1           this product is just amazing! i love it.   \n",
       "2  i bought this phone for $799, and it has a 120...   \n",
       "3  wow!!! this product is awesome... but a bit ex...   \n",
       "4                the laptop works perfectly fine.      \n",
       "\n",
       "                                        urls_removed  \\\n",
       "0  the product arrived on time. packaging was gre...   \n",
       "1           this product is just amazing! i love it.   \n",
       "2  i bought this phone for $799, and it has a 120...   \n",
       "3  wow!!! this product is awesome... but a bit ex...   \n",
       "4                the laptop works perfectly fine.      \n",
       "\n",
       "                                        html_removed  \\\n",
       "0  the product arrived on time. packaging was gre...   \n",
       "1           this product is just amazing! i love it.   \n",
       "2  i bought this phone for $799, and it has a 120...   \n",
       "3  wow!!! this product is awesome... but a bit ex...   \n",
       "4                the laptop works perfectly fine.      \n",
       "\n",
       "                                      emojis_removed  \\\n",
       "0  the product arrived on time. packaging was gre...   \n",
       "1           this product is just amazing! i love it.   \n",
       "2  i bought this phone for $799, and it has a 120...   \n",
       "3  wow!!! this product is awesome... but a bit ex...   \n",
       "4                the laptop works perfectly fine.      \n",
       "\n",
       "                                     slangs_replaced  \\\n",
       "0  the product arrived on time. packaging was gre...   \n",
       "1           this product is just amazing! i love it.   \n",
       "2  i bought this phone for $799, and it has a 120...   \n",
       "3  wow!!! this product is awesome... but a bit ex...   \n",
       "4                the laptop works perfectly fine.      \n",
       "\n",
       "                               contractions_replaced  \\\n",
       "0  the product arrived on time. packaging was gre...   \n",
       "1           this product is just amazing! i love it.   \n",
       "2  i bought this phone for $799, and it has a 120...   \n",
       "3  wow!!! this product is awesome... but a bit ex...   \n",
       "4                the laptop works perfectly fine.      \n",
       "\n",
       "                                punctuations_removed  \\\n",
       "0  the product arrived on time packaging was grea...   \n",
       "1             this product is just amazing i love it   \n",
       "2  i bought this phone for 799 and it has a 120hz...   \n",
       "3    wow this product is awesome but a bit expensive   \n",
       "4                 the laptop works perfectly fine      \n",
       "\n",
       "                                     numbers_removed  \\\n",
       "0  the product arrived on time packaging was grea...   \n",
       "1             this product is just amazing i love it   \n",
       "2  i bought this phone for  and it has a hz displ...   \n",
       "3    wow this product is awesome but a bit expensive   \n",
       "4                 the laptop works perfectly fine      \n",
       "\n",
       "                                  spelling_corrected  \\\n",
       "0  the product arrived on time packaging was grea...   \n",
       "1             this product is just amazing i love it   \n",
       "2  i bought this phone for  and it has a hz displ...   \n",
       "3    wow this product is awesome but a bit expensive   \n",
       "4                 the laptop works perfectly fine      \n",
       "\n",
       "                                   stopwords_removed  \\\n",
       "0  product arrived time packaging great quality a...   \n",
       "1                               product amazing love   \n",
       "2              bought phone hz display totally worth   \n",
       "3                  wow product awesome bit expensive   \n",
       "4                        laptop works perfectly fine   \n",
       "\n",
       "                                  stemmed_words  \\\n",
       "0  product arriv time packag great qualiti amaz   \n",
       "1                             product amaz love   \n",
       "2           bought phone hz display total worth   \n",
       "3                 wow product awesom bit expens   \n",
       "4                    laptop work perfectli fine   \n",
       "\n",
       "                                          lemmatized  \\\n",
       "0  product arrive time packaging great quality am...   \n",
       "1                                 product amaze love   \n",
       "2                 buy phone hz display totally worth   \n",
       "3                  wow product awesome bit expensive   \n",
       "4                         laptop work perfectly fine   \n",
       "\n",
       "                                           tokenized  \n",
       "0  ['product', 'arrive', 'time', 'packaging', 'gr...  \n",
       "1                       ['product', 'amaze', 'love']  \n",
       "2  ['buy', 'phone', 'hz', 'display', 'totally', '...  \n",
       "3  ['wow', 'product', 'awesome', 'bit', 'expensive']  \n",
       "4            ['laptop', 'work', 'perfectly', 'fine']  "
      ]
     },
     "execution_count": 110,
     "metadata": {},
     "output_type": "execute_result"
    }
   ],
   "source": [
    "df.head()"
   ]
  },
  {
   "cell_type": "markdown",
   "id": "911cc776-5f48-4182-b195-47a590089a65",
   "metadata": {},
   "source": [
    "##### Pre-Processing"
   ]
  },
  {
   "cell_type": "code",
   "execution_count": 113,
   "id": "d14b56cf-3b56-4a93-9634-befed319856e",
   "metadata": {},
   "outputs": [],
   "source": [
    "df = df[['lemmatized', 'label']].dropna()"
   ]
  },
  {
   "cell_type": "code",
   "execution_count": 115,
   "id": "9c2b90d6-de55-487a-89e0-2f27ff8bcc70",
   "metadata": {},
   "outputs": [],
   "source": [
    "df['label'] = df['label'].astype(int)"
   ]
  },
  {
   "cell_type": "markdown",
   "id": "2494f976-e904-40d4-a478-6c66e7109bbc",
   "metadata": {},
   "source": [
    "##### Vectorization"
   ]
  },
  {
   "cell_type": "code",
   "execution_count": 118,
   "id": "146fa484-9d39-4770-9b0c-636390359869",
   "metadata": {},
   "outputs": [],
   "source": [
    "from sklearn.feature_extraction.text import TfidfVectorizer\n",
    "tfidf_vect = TfidfVectorizer()\n",
    "X = tfidf_vect.fit_transform(df['lemmatized'])\n",
    "y = df['label']"
   ]
  },
  {
   "cell_type": "markdown",
   "id": "dd1419fa-f771-483f-8c3d-5f7e6a11dec1",
   "metadata": {},
   "source": [
    "##### Model Training"
   ]
  },
  {
   "cell_type": "code",
   "execution_count": 121,
   "id": "fb0a937f-3006-426e-8200-4fadf048ec1f",
   "metadata": {},
   "outputs": [],
   "source": [
    "from sklearn.naive_bayes import MultinomialNB\n",
    "from sklearn.model_selection import train_test_split"
   ]
  },
  {
   "cell_type": "code",
   "execution_count": 123,
   "id": "127edcb9-0eda-4eeb-9bff-a1c067c016d3",
   "metadata": {},
   "outputs": [],
   "source": [
    "X_train, X_test, y_train, y_test = train_test_split(X, y, random_state=42)"
   ]
  },
  {
   "cell_type": "code",
   "execution_count": 125,
   "id": "4d683d3f-0616-4635-8d9e-af39d4a2f6b5",
   "metadata": {},
   "outputs": [],
   "source": [
    "nb_clf = MultinomialNB().fit(X_train, y_train)"
   ]
  },
  {
   "cell_type": "markdown",
   "id": "5b6f5796-c5e9-48de-ac84-86296d335b0a",
   "metadata": {},
   "source": [
    "##### Evaluation"
   ]
  },
  {
   "cell_type": "code",
   "execution_count": 128,
   "id": "8b63b092-ac4e-4704-8fac-63420394c977",
   "metadata": {},
   "outputs": [],
   "source": [
    "from sklearn.metrics import classification_report, confusion_matrix\n",
    "from sklearn.metrics import accuracy_score\n",
    "import seaborn as sns\n",
    "import matplotlib.pyplot as plt"
   ]
  },
  {
   "cell_type": "code",
   "execution_count": 129,
   "id": "60325da6-bb7e-41c3-b21c-dcf07c73a46a",
   "metadata": {},
   "outputs": [
    {
     "name": "stdout",
     "output_type": "stream",
     "text": [
      "Classification Report:\n",
      "              precision    recall  f1-score   support\n",
      "\n",
      "           0       0.00      0.00      0.00         1\n",
      "           1       0.75      1.00      0.86         3\n",
      "\n",
      "    accuracy                           0.75         4\n",
      "   macro avg       0.38      0.50      0.43         4\n",
      "weighted avg       0.56      0.75      0.64         4\n",
      "\n",
      "\n",
      "Accuracy: 0.75\n",
      "Error Rate: 0.25\n"
     ]
    },
    {
     "data": {
      "image/png": "[encoded data removed]",
      "text/plain": [
       "<Figure size 600x400 with 2 Axes>"
      ]
     },
     "metadata": {},
     "output_type": "display_data"
    }
   ],
   "source": [
    "nb_predicted = nb_clf.predict(X_test)\n",
    "print(\"Classification Report:\")\n",
    "print(classification_report(y_test, nb_predicted, zero_division=0))  # Handle potential zero division\n",
    "\n",
    "accuracy = accuracy_score(y_test, nb_predicted)\n",
    "print(f\"\\nAccuracy: {accuracy:.2f}\")\n",
    "\n",
    "error_rate = 1 - accuracy\n",
    "print(f\"Error Rate: {error_rate:.2f}\")\n",
    "\n",
    "cm = confusion_matrix(y_test, nb_predicted)\n",
    "plt.figure(figsize=(6, 4))\n",
    "sns.heatmap(cm, annot=True, fmt='d', cmap='Blues', \n",
    "            xticklabels=['Negative', 'Positive'],\n",
    "            yticklabels=['Negative', 'Positive'])\n",
    "plt.xlabel('Predicted')\n",
    "plt.ylabel('Actual')\n",
    "plt.title('Confusion Matrix')\n",
    "plt.show()"
   ]
  },
  {
   "cell_type": "code",
   "execution_count": null,
   "id": "003cd3fb-5ad3-4bd3-b104-8c15862dc1e8",
   "metadata": {},
   "outputs": [],
   "source": []
  }
 ],
 "metadata": {
  "kernelspec": {
   "display_name": "Python 3 (ipykernel)",
   "language": "python",
   "name": "python3"
  },
  "language_info": {
   "codemirror_mode": {
    "name": "ipython",
    "version": 3
   },
   "file_extension": ".py",
   "mimetype": "text/x-python",
   "name": "python",
   "nbconvert_exporter": "python",
   "pygments_lexer": "ipython3",
   "version": "3.12.4"
  }
 },
 "nbformat": 4,
 "nbformat_minor": 5
}
