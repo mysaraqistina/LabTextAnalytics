{
 "cells": [
  {
   "cell_type": "markdown",
   "id": "b930a27a-11b7-42bd-8098-de38b8b4ea9c",
   "metadata": {},
   "source": [
    "### Scraping from A Simple Web Page"
   ]
  },
  {
   "cell_type": "code",
   "execution_count": 1,
   "id": "a4c3e6f5-9f71-4c0c-81d2-59d5279bb511",
   "metadata": {},
   "outputs": [],
   "source": [
    "import requests"
   ]
  },
  {
   "cell_type": "code",
   "execution_count": 3,
   "id": "26b450b9-bbf6-46e0-a935-d3ee612a3f1f",
   "metadata": {},
   "outputs": [],
   "source": [
    "page = requests.get(\"https://dataquestio.github.io/web-scraping-pages/simple.html\")"
   ]
  },
  {
   "cell_type": "code",
   "execution_count": 5,
   "id": "7d76ebc5-d712-45e7-9030-cf6d216a304e",
   "metadata": {},
   "outputs": [
    {
     "data": {
      "text/plain": [
       "<Response [200]>"
      ]
     },
     "execution_count": 5,
     "metadata": {},
     "output_type": "execute_result"
    }
   ],
   "source": [
    "page"
   ]
  },
  {
   "cell_type": "code",
   "execution_count": 7,
   "id": "ff449607-706e-4a22-8c62-6a32e7f3800a",
   "metadata": {},
   "outputs": [],
   "source": [
    "from bs4 import BeautifulSoup\n",
    "soup = BeautifulSoup(page.content, 'html.parser')"
   ]
  },
  {
   "cell_type": "code",
   "execution_count": 9,
   "id": "0f8f2efb-c5f4-47b2-96f0-6b4c385037be",
   "metadata": {},
   "outputs": [
    {
     "data": {
      "text/plain": [
       "['html',\n",
       " '\\n',\n",
       " <html>\n",
       " <head>\n",
       " <title>A simple example page</title>\n",
       " </head>\n",
       " <body>\n",
       " <p>Here is some simple content for this page.</p>\n",
       " </body>\n",
       " </html>]"
      ]
     },
     "execution_count": 9,
     "metadata": {},
     "output_type": "execute_result"
    }
   ],
   "source": [
    "list(soup.children)"
   ]
  },
  {
   "cell_type": "code",
   "execution_count": 23,
   "id": "00596faf-437c-4a64-82f7-f8644842f98e",
   "metadata": {},
   "outputs": [],
   "source": [
    "html = list(soup.children)[2] #position=2"
   ]
  },
  {
   "cell_type": "code",
   "execution_count": 25,
   "id": "ae8830f6-78a7-4b9f-b5fa-a1a5a3cc0b35",
   "metadata": {},
   "outputs": [
    {
     "data": {
      "text/plain": [
       "<html>\n",
       "<head>\n",
       "<title>A simple example page</title>\n",
       "</head>\n",
       "<body>\n",
       "<p>Here is some simple content for this page.</p>\n",
       "</body>\n",
       "</html>"
      ]
     },
     "execution_count": 25,
     "metadata": {},
     "output_type": "execute_result"
    }
   ],
   "source": [
    "html"
   ]
  },
  {
   "cell_type": "code",
   "execution_count": 37,
   "id": "63bcd933-e5fa-44e5-a11e-6d23eb66fc91",
   "metadata": {},
   "outputs": [],
   "source": [
    "content = soup.find('p').get_text()"
   ]
  },
  {
   "cell_type": "code",
   "execution_count": 39,
   "id": "3a340233-750d-476b-b9bc-346840ac37cb",
   "metadata": {},
   "outputs": [
    {
     "name": "stdout",
     "output_type": "stream",
     "text": [
      "Extracted Content: Here is some simple content for this page.\n"
     ]
    }
   ],
   "source": [
    "print(\"Extracted Content:\", content)"
   ]
  },
  {
   "cell_type": "code",
   "execution_count": 41,
   "id": "bdb9c3dd-8c94-4ea4-8449-1f886312a45b",
   "metadata": {},
   "outputs": [],
   "source": [
    "with open(\"extracted_data1.txt\", \"w\") as file:\n",
    "    file.write(content)"
   ]
  }
 ],
 "metadata": {
  "kernelspec": {
   "display_name": "Python 3 (ipykernel)",
   "language": "python",
   "name": "python3"
  },
  "language_info": {
   "codemirror_mode": {
    "name": "ipython",
    "version": 3
   },
   "file_extension": ".py",
   "mimetype": "text/x-python",
   "name": "python",
   "nbconvert_exporter": "python",
   "pygments_lexer": "ipython3",
   "version": "3.12.4"
  }
 },
 "nbformat": 4,
 "nbformat_minor": 5
}
