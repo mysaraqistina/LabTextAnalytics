{
 "cells": [
  {
   "cell_type": "code",
   "execution_count": 19,
   "id": "9555b741-4724-4ed2-8d26-139ef4cdbabe",
   "metadata": {},
   "outputs": [
    {
     "name": "stdout",
     "output_type": "stream",
     "text": [
      "Quote:  “The world as we have created it is a process of our thinking. It cannot be changed without changing our thinking.”\n",
      "Author:  Albert Einstein\n",
      "Tags:  change, deep-thoughts, thinking, world\n",
      "\n",
      "Quote:  “It is our choices, Harry, that show what we truly are, far more than our abilities.”\n",
      "Author:  J.K. Rowling\n",
      "Tags:  abilities, choices\n",
      "\n",
      "Quote:  “There are only two ways to live your life. One is as though nothing is a miracle. The other is as though everything is a miracle.”\n",
      "Author:  Albert Einstein\n",
      "Tags:  inspirational, life, live, miracle, miracles\n",
      "\n",
      "Quote:  “The person, be it gentleman or lady, who has not pleasure in a good novel, must be intolerably stupid.”\n",
      "Author:  Jane Austen\n",
      "Tags:  aliteracy, books, classic, humor\n",
      "\n",
      "Quote:  “Imperfection is beauty, madness is genius and it's better to be absolutely ridiculous than absolutely boring.”\n",
      "Author:  Marilyn Monroe\n",
      "Tags:  be-yourself, inspirational\n",
      "\n",
      "Quote:  “Try not to become a man of success. Rather become a man of value.”\n",
      "Author:  Albert Einstein\n",
      "Tags:  adulthood, success, value\n",
      "\n",
      "Quote:  “It is better to be hated for what you are than to be loved for what you are not.”\n",
      "Author:  André Gide\n",
      "Tags:  life, love\n",
      "\n",
      "Quote:  “I have not failed. I've just found 10,000 ways that won't work.”\n",
      "Author:  Thomas A. Edison\n",
      "Tags:  edison, failure, inspirational, paraphrased\n",
      "\n",
      "Quote:  “A woman is like a tea bag; you never know how strong it is until it's in hot water.”\n",
      "Author:  Eleanor Roosevelt\n",
      "Tags:  misattributed-eleanor-roosevelt\n",
      "\n",
      "Quote:  “A day without sunshine is like, you know, night.”\n",
      "Author:  Steve Martin\n",
      "Tags:  humor, obvious, simile\n",
      "\n",
      "Quotes have been saved to quotes.csv\n"
     ]
    }
   ],
   "source": [
    "import requests\n",
    "from bs4 import BeautifulSoup\n",
    "import csv\n",
    "\n",
    "page = requests.get('https://quotes.toscrape.com')\n",
    "soup = BeautifulSoup(page.text, 'html.parser')\n",
    "quotes = []\n",
    "\n",
    "quote_elements = soup.find_all('div', class_='quote')\n",
    "\n",
    "for quote_element in quote_elements:\n",
    "    text = quote_element.find('span', class_='text').text\n",
    "    author = quote_element.find('small', class_='author').text\n",
    "    tag_elements = quote_element.select('.tags .tag')\n",
    "    tags = []\n",
    "    for tag_element in tag_elements:\n",
    "        tags.append(tag_element.text)\n",
    "    quotes.append(\n",
    "    {\n",
    "        'text': text,\n",
    "        'author': author,\n",
    "        'tags': ', '.join(tags)\n",
    "     }\n",
    ")\n",
    "\n",
    "for quote in quotes:\n",
    "    print(\"Quote: \", quote['text'])\n",
    "    print(\"Author: \", quote['author'])\n",
    "    print(\"Tags: \", quote['tags'])\n",
    "    print()\n",
    "\n",
    "with open('quotes.csv', 'w', encoding='utf-8', newline='') as csvfile:\n",
    "    fieldnames = ['text', 'author', 'tags']\n",
    "    writer = csv.DictWriter(csvfile, fieldnames=fieldnames)\n",
    "    writer.writeheader()\n",
    "    for quote in quotes:\n",
    "        writer.writerow(quote)\n",
    "\n",
    "print(\"Quotes have been saved to quotes.csv\")"
   ]
  },
  {
   "cell_type": "code",
   "execution_count": null,
   "id": "f2bfe363-d629-45d4-9b89-0d015a4bbf5e",
   "metadata": {},
   "outputs": [],
   "source": []
  }
 ],
 "metadata": {
  "kernelspec": {
   "display_name": "Python 3 (ipykernel)",
   "language": "python",
   "name": "python3"
  },
  "language_info": {
   "codemirror_mode": {
    "name": "ipython",
    "version": 3
   },
   "file_extension": ".py",
   "mimetype": "text/x-python",
   "name": "python",
   "nbconvert_exporter": "python",
   "pygments_lexer": "ipython3",
   "version": "3.12.4"
  }
 },
 "nbformat": 4,
 "nbformat_minor": 5
}
